{
 "cells": [
  {
   "cell_type": "code",
   "execution_count": 7,
   "metadata": {},
   "outputs": [],
   "source": [
    "import numpy as np\n",
    "import tensorflow as tf\n",
    "import tensorflow_probability as tfp\n",
    "\n",
    "import matplotlib.pyplot as plt\n",
    "\n",
    "from scipy.optimize import minimize\n",
    "\n",
    "import sys\n",
    "sys.path.append('Scripts/')\n",
    "from measles_simulator import *\n",
    "from measles_PALSMC import *"
   ]
  },
  {
   "cell_type": "code",
   "execution_count": 10,
   "metadata": {},
   "outputs": [],
   "source": [
    "#############################################\n",
    "# Load the data\n",
    "#############################################\n",
    "UKbirths_array = np.load(\"Data/UKbirths_array.npy\")\n",
    "UKpop_array = np.load(\"Data/UKpop_array.npy\")\n",
    "measles_distance_matrix_array = np.load(\"Data/measles_distance_matrix_array.npy\")\n",
    "UKmeasles_array = np.load(\"Data/UKmeasles_array.npy\")\n",
    "\n",
    "UKbirths = tf.convert_to_tensor(UKbirths_array, dtype = tf.float32)\n",
    "UKpop = tf.convert_to_tensor(UKpop_array, dtype = tf.float32)\n",
    "measles_distance_matrix = tf.convert_to_tensor(measles_distance_matrix_array, dtype = tf.float32)\n",
    "UKmeasles = tf.convert_to_tensor(UKmeasles_array, dtype = tf.float32)\n",
    "\n",
    "term   = tf.convert_to_tensor([6, 99, 115, 198, 252, 299, 308, 355, 366], dtype = tf.float32)\n",
    "school = tf.convert_to_tensor([0, 1, 0, 1, 0, 1, 0, 1, 0], dtype = tf.float32)\n",
    "\n",
    "n_cities = tf.constant(40, dtype = tf.int64)\n",
    "\n",
    "initial_pop = UKpop[:,0]\n"
   ]
  },
  {
   "cell_type": "markdown",
   "metadata": {},
   "source": [
    "# Simulate from the measles model"
   ]
  },
  {
   "cell_type": "code",
   "execution_count": 12,
   "metadata": {},
   "outputs": [],
   "source": [
    "T = 390\n",
    "intermediate_steps = 4\n",
    "is_school_term_array, is_start_school_year_array, times_total, times_obs = school_term_and_school_year(T, intermediate_steps, term, school)\n",
    "\n",
    "is_school_term_array = tf.convert_to_tensor(is_school_term_array, dtype = tf.float32)\n",
    "is_start_school_year_array = tf.convert_to_tensor(is_start_school_year_array, dtype = tf.float32)\n",
    "\n",
    "pi_0_1 = 0.015\n",
    "pi_0_2 = 0.0002\n",
    "pi_0_3 = 0.0002\n",
    "pi_0 = tf.convert_to_tensor([[pi_0_1, pi_0_2, pi_0_3, 1 - pi_0_1 - pi_0_2 - pi_0_3]], dtype = tf.float32)*tf.ones((n_cities, 4), dtype = tf.float32)\n",
    "\n",
    "initial_pop = UKpop[:,0]\n",
    "\n",
    "beta_bar  = tf.convert_to_tensor(np.random.normal(10, 2, (n_cities,1)), dtype = tf.float32)\n",
    "rho   = tf.convert_to_tensor([[1/10]], dtype = tf.float32)*tf.ones((n_cities, 1), dtype = tf.float32)\n",
    "gamma = tf.convert_to_tensor([[1/10]], dtype = tf.float32)*tf.ones((n_cities, 1), dtype = tf.float32)\n",
    "\n",
    "g = tf.convert_to_tensor([[10000]], dtype = tf.float32)*tf.ones((n_cities, 1), dtype = tf.float32) \n",
    "p = tf.constant(0.759, dtype = tf.float32)\n",
    "a = tf.constant(0.3,   dtype = tf.float32)\n",
    "c = tf.constant(0.5,   dtype = tf.float32)\n",
    "\n",
    "Xi = tfp.distributions.Gamma(concentration = 5, rate = 5)\n",
    "Q  = tfp.distributions.TruncatedNormal( 0.7, 0.2, 0, 1)\n",
    "\n",
    "delta_year = tf.convert_to_tensor([[1/50]], dtype = tf.float32)*tf.ones((n_cities, 4), dtype = tf.float32)"
   ]
  },
  {
   "cell_type": "code",
   "execution_count": 13,
   "metadata": {},
   "outputs": [],
   "source": [
    "T_small = tf.constant(150, dtype = tf.float32)\n",
    "\n",
    "X_t, Y_t, Xi_t, Q_t = run(T_small, intermediate_steps, UKbirths, UKpop, g, measles_distance_matrix, initial_pop, pi_0, beta_bar, p, a, is_school_term_array, is_start_school_year_array, h, rho, gamma, Xi, Q, c, n_cities, delta_year)"
   ]
  },
  {
   "cell_type": "markdown",
   "metadata": {},
   "source": [
    "we can plot the data on city 29,30,31"
   ]
  },
  {
   "cell_type": "code",
   "execution_count": 14,
   "metadata": {},
   "outputs": [
    {
     "data": {
      "text/plain": [
       "[<matplotlib.lines.Line2D at 0x21921852070>]"
      ]
     },
     "execution_count": 14,
     "metadata": {},
     "output_type": "execute_result"
    },
    {
     "data": {
      "image/png": "[encoded data removed]",
      "text/plain": [
       "<Figure size 432x288 with 1 Axes>"
      ]
     },
     "metadata": {
      "needs_background": "light"
     },
     "output_type": "display_data"
    }
   ],
   "source": [
    "max_time = 150\n",
    "max_value = 500\n",
    "city = 29\n",
    "\n",
    "intermediate_steps = 4\n",
    "\n",
    "plt.plot(times_obs[:max_time], Y_t[1:(max_time+1),city,0], \"red\")\n",
    "plt.plot(times_obs[:max_time], Y_t[1:(max_time+1),city+1,0], \"blue\")\n",
    "plt.plot(times_obs[:max_time], Y_t[1:(max_time+1),city+2,0], \"black\")"
   ]
  },
  {
   "cell_type": "markdown",
   "metadata": {},
   "source": [
    "# Optimize the parameters"
   ]
  },
  {
   "cell_type": "markdown",
   "metadata": {},
   "source": [
    "We have 3 models: A with all shared parameters, B with city specific initial distribution and C with city specifi initial distribution and transmission rate. The training of these models might be computationally intensive, we report the trained parameters in the Data folder and the scripts to run the experiments in the following three cells."
   ]
  },
  {
   "cell_type": "code",
   "execution_count": 16,
   "metadata": {},
   "outputs": [],
   "source": [
    "T = 390\n",
    "intermediate_steps = 4\n",
    "is_school_term_array, is_start_school_year_array, times_total, times_obs = school_term_and_school_year(T, intermediate_steps, term, school)\n",
    "\n",
    "is_school_term_array = tf.convert_to_tensor(is_school_term_array, dtype = tf.float32)\n",
    "is_start_school_year_array = tf.convert_to_tensor(is_start_school_year_array, dtype = tf.float32)\n",
    "\n",
    "intermediate_steps = tf.constant(4, dtype = tf.float32)\n",
    "h = tf.constant(14/tf.cast(intermediate_steps, dtype = tf.float32), dtype = tf.float32)\n",
    "T = tf.constant(389, dtype = tf.float32)\n",
    "\n",
    "delta_year = tf.convert_to_tensor([[1/50]], dtype = tf.float32)*tf.ones((n_cities, 4), dtype = tf.float32)\n",
    "\n",
    "p      = tf.constant(0.739, dtype = tf.float32)\n",
    "q_mean = tf.constant(np.mean(np.load(\"Data/q_mean.npy\")), dtype = tf.float32)\n"
   ]
  },
  {
   "cell_type": "markdown",
   "metadata": {},
   "source": [
    "Model A"
   ]
  },
  {
   "cell_type": "code",
   "execution_count": 31,
   "metadata": {},
   "outputs": [],
   "source": [
    "# # Load initial conditions\n",
    "# x_0 = np.load(\"Data/X_0.npy\")\n",
    "\n",
    "# n_particles = 5000\n",
    "\n",
    "# def optimization_func(x_optim):\n",
    "    \n",
    "#     if x_optim[0]>0 or x_optim[1]>0 or x_optim[2]>0 or x_optim[7]>(-np.log(2)-np.log(p.numpy())) or x_optim[8]>0 or x_optim[10]>1:\n",
    "#         return 200000\n",
    "\n",
    "#     x = np.exp(x_optim) \n",
    "\n",
    "#     if (1 - x[0] - x[1] - x[2])<0:\n",
    "#         return 200000\n",
    " \n",
    "#     pi_0_init = np.array([x[0], x[1], x[2], 1 - x[0] - x[1] - x[2]], dtype = np.float32)\n",
    "\n",
    "#     beta_bar_init = tf.convert_to_tensor([x[3:4]], dtype = tf.float32)\n",
    "#     rho_init = tf.convert_to_tensor([x[4:5]], dtype = tf.float32)\n",
    "#     gamma_init = tf.convert_to_tensor([x[5:6]], dtype = tf.float32)\n",
    "#     g_init = 100*tf.convert_to_tensor([x[6:7]], dtype = tf.float32)\n",
    "#     a_init = tf.convert_to_tensor(x[7], dtype = tf.float32)\n",
    "#     c_init = tf.convert_to_tensor(x[8], dtype = tf.float32)\n",
    "#     xi_var = 10*tf.convert_to_tensor(x[9], dtype = tf.float32)\n",
    "#     q_var  = tf.convert_to_tensor(x[10], dtype = tf.float32)\n",
    "    \n",
    "#     pi_0_init_transform     = pi_0_init*tf.ones((n_cities, 4), dtype = tf.float32)\n",
    "#     beta_bar_init_transform = beta_bar_init*tf.ones((n_cities, 1), dtype = tf.float32)\n",
    "#     rho_init_transform      = rho_init*tf.ones((n_cities, 1), dtype = tf.float32)\n",
    "#     gamma_init_transform    = gamma_init*tf.ones((n_cities, 1), dtype = tf.float32)\n",
    "#     g_init_transform        = g_init*tf.ones((n_cities, 1), dtype = tf.float32)\n",
    "\n",
    "#     Xi = tfp.distributions.Gamma(concentration = xi_var, rate = xi_var)\n",
    "#     Q  = tfp.distributions.TruncatedNormal( q_mean, q_var, 0, 1)\n",
    "\n",
    "#     # The foloowing is running the lookahead, if you want to using a vanilla SMC use PAL_run_likelihood_res\n",
    "#     value =  -(PAL_run_likelihood_lookahead(T, intermediate_steps, UKmeasles, UKbirths, UKpop, g_init_transform, measles_distance_matrix, initial_pop, pi_0_init_transform, beta_bar_init_transform, p, a_init, is_school_term_array, is_start_school_year_array, h, rho_init_transform, gamma_init_transform, Xi, Q, c_init, n_cities, n_particles, delta_year))[0].numpy()\n",
    "\n",
    "#     print(value)\n",
    "#     return value\n",
    "\n",
    "# # Minimize the objective function subject to the constraints\n",
    "# bnds = ((-20, -0.5), (-20, -0.5), (-20, -0.5), (-5, 5), (-4, 0), (-4, 0), (-1, 5), (-20, -np.log(2)-np.log(p)), (-20, -0.01), (-10, 3), (-10, -0.1))\n",
    "\n",
    "# initial_loss = optimization_func(x_0)\n",
    "\n",
    "# bnds = ((-20, -0.5), (-20, -0.5), (-20, -0.5), (-5, 5), (-4, 0), (-4, 0), (-1, 5), (-20, -np.log(2)-np.log(p)), (-20, -0.01), (-10, 3), (-10, -0.1))\n",
    "\n",
    "# # Minimize the objective function subject to the constraints\n",
    "# res = minimize(optimization_func, x_0, bounds = bnds, method='SLSQP', options ={\"eps\":0.5, \"maxiter\":100})\n",
    "\n",
    "# final_parameters_lookahead_A = res.x \n",
    "\n"
   ]
  },
  {
   "cell_type": "markdown",
   "metadata": {},
   "source": [
    "Model B"
   ]
  },
  {
   "cell_type": "code",
   "execution_count": 34,
   "metadata": {},
   "outputs": [],
   "source": [
    "# optimal_shared_param = np.load(\"Data/final_parameters_arraylookahead.npy\")\n",
    "\n",
    "# x_initial = optimal_shared_param[:3]\n",
    "# x_initial = np.transpose(np.expand_dims(x_initial, axis =-1)*np.ones((1, n_cities)))\n",
    "# x_initial[:,2] = np.log(1e-8 + UKmeasles[:,0]/initial_pop)\n",
    "# x_initial = tf.reshape(x_initial, (n_cities*3))\n",
    "# x_beta = optimal_shared_param[3:4]\n",
    "# x_rest = optimal_shared_param[4:]\n",
    "\n",
    "# x_to_start = np.concatenate((x_initial, x_beta, x_rest))\n",
    "\n",
    "# n_particles = 5000\n",
    "\n",
    "# eps_num = 0.5\n",
    "\n",
    "# def optimization_func(x_optim):\n",
    "    \n",
    "\n",
    "#     x = np.exp(x_optim) \n",
    "\n",
    "#     x_initial = np.reshape(x[0:n_cities.numpy()*3], (n_cities, 3))\n",
    "#     pi_0_init = tf.convert_to_tensor(np.concatenate((x_initial[:,0:1], x_initial[:,1:2], x_initial[:,2:3], 1 - x_initial[:,0:1] - x_initial[:,1:2] - x_initial[:,2:3]), axis = 1), dtype = np.float32)\n",
    "\n",
    "#     x_beta = x[n_cities.numpy()*3:n_cities.numpy()*3+1]*np.ones((n_cities, 1))\n",
    "#     beta_bar_init = tf.convert_to_tensor(np.reshape(x_beta, (n_cities, 1)), dtype = tf.float32)\n",
    "\n",
    "#     x_rest = x[n_cities.numpy()*3+1:]\n",
    "#     rho_init   = tf.convert_to_tensor([x_rest[0:1]], dtype = tf.float32)\n",
    "#     gamma_init = tf.convert_to_tensor([x_rest[1:2]], dtype = tf.float32)\n",
    "#     g_init = 100*tf.convert_to_tensor([x_rest[2:3]], dtype = tf.float32)\n",
    "#     a_init     = tf.convert_to_tensor( x_rest[3], dtype = tf.float32)\n",
    "#     c_init     = tf.convert_to_tensor( x_rest[4], dtype = tf.float32)\n",
    "#     xi_var  = 10*tf.convert_to_tensor( x_rest[5], dtype = tf.float32)\n",
    "#     q_var      = tf.convert_to_tensor( x_rest[6], dtype = tf.float32)\n",
    "    \n",
    "#     pi_0_init_transform     = pi_0_init\n",
    "#     beta_bar_init_transform = beta_bar_init\n",
    "#     rho_init_transform      = rho_init*tf.ones((n_cities, 1), dtype = tf.float32)\n",
    "#     gamma_init_transform    = gamma_init*tf.ones((n_cities, 1), dtype = tf.float32)\n",
    "#     g_init_transform        = g_init*tf.ones((n_cities, 1), dtype = tf.float32)\n",
    "\n",
    "#     Xi = tfp.distributions.Gamma(concentration = xi_var, rate = xi_var)\n",
    "#     Q  = tfp.distributions.TruncatedNormal( q_mean, q_var, 0, 1)\n",
    "\n",
    "#     # as above\n",
    "#     value =  -(PAL_run_likelihood_lookahead(T-1, intermediate_steps, UKmeasles, UKbirths, UKpop, g_init_transform, measles_distance_matrix, initial_pop, pi_0_init_transform, beta_bar_init_transform, p, a_init, is_school_term_array, is_start_school_year_array, h, rho_init_transform, gamma_init_transform, Xi, Q, c_init, n_cities, n_particles, delta_year))[0].numpy()\n",
    "    \n",
    "#     print(value)\n",
    "#     return value\n",
    "\n",
    "# # Minimize the objective function subject to the constraints\n",
    "# bnds_x_0 = (((-20, -0.5),)*n_cities.numpy()*3)\n",
    "# bnds_beta = (((-10, 10),))\n",
    "# bnds_rest = ((-4, 0), (-4, 0), (-1, 5), (-20, -np.log(2)-np.log(p)), (-20, -0.01), (-10, 3), (-10, -0.1))\n",
    "# bnds = bnds_x_0+bnds_beta+bnds_rest\n",
    "\n",
    "# x_0 = x_to_start\n",
    "\n",
    "# # Minimize the objective function subject to the constraints\n",
    "# res = minimize(optimization_func, x_0, bounds = bnds, method='SLSQP', options ={\"eps\":eps_num, \"maxiter\":200})\n",
    "\n",
    "# final_parameters_lookahead_B = res.x \n"
   ]
  },
  {
   "cell_type": "markdown",
   "metadata": {},
   "source": [
    "Model C"
   ]
  },
  {
   "cell_type": "code",
   "execution_count": 36,
   "metadata": {},
   "outputs": [],
   "source": [
    "# optimal_shared_param = np.load(\"Data/final_parameters_arraylookahead.npy\")\n",
    "\n",
    "# x_initial = optimal_shared_param[:3]\n",
    "# x_initial = np.transpose(np.expand_dims(x_initial, axis =-1)*np.ones((1, n_cities)))\n",
    "# x_initial[:,2] = np.log(1e-8 + UKmeasles[:,0]/initial_pop)\n",
    "# x_initial = tf.reshape(x_initial, (n_cities*3))\n",
    "# x_beta = optimal_shared_param[3:4]*np.ones((n_cities))\n",
    "# x_rest = optimal_shared_param[4:]\n",
    "\n",
    "# x_to_start = np.concatenate((x_initial, x_beta, x_rest))\n",
    "\n",
    "# n_particles = 5000\n",
    "\n",
    "# eps_num = 0.5\n",
    "\n",
    "# def optimization_func(x_optim):\n",
    "    \n",
    "\n",
    "#     x = np.exp(x_optim) \n",
    "\n",
    "#     x_initial = np.reshape(x[0:n_cities.numpy()*3], (n_cities, 3))\n",
    "#     pi_0_init = tf.convert_to_tensor(np.concatenate((x_initial[:,0:1], x_initial[:,1:2], x_initial[:,2:3], 1 - x_initial[:,0:1] - x_initial[:,1:2] - x_initial[:,2:3]), axis = 1), dtype = np.float32)\n",
    "\n",
    "#     x_beta = x[(n_cities.numpy()*3):(n_cities.numpy()*3+n_cities.numpy())]\n",
    "#     beta_bar_init = tf.convert_to_tensor(np.reshape(x_beta, (n_cities, 1)), dtype = tf.float32)\n",
    "\n",
    "#     x_rest = x[(n_cities.numpy()*3+n_cities.numpy()):]\n",
    "#     rho_init   = tf.convert_to_tensor([x_rest[0:1]], dtype = tf.float32)\n",
    "#     gamma_init = tf.convert_to_tensor([x_rest[1:2]], dtype = tf.float32)\n",
    "#     g_init = 100*tf.convert_to_tensor([x_rest[2:3]], dtype = tf.float32)\n",
    "#     a_init     = tf.convert_to_tensor( x_rest[3], dtype = tf.float32)\n",
    "#     c_init     = tf.convert_to_tensor( x_rest[4], dtype = tf.float32)\n",
    "#     xi_var  = 10*tf.convert_to_tensor( x_rest[5], dtype = tf.float32)\n",
    "#     q_var      = tf.convert_to_tensor( x_rest[6], dtype = tf.float32)\n",
    "    \n",
    "#     pi_0_init_transform     = pi_0_init\n",
    "#     beta_bar_init_transform = beta_bar_init\n",
    "#     rho_init_transform      = rho_init*tf.ones((n_cities, 1), dtype = tf.float32)\n",
    "#     gamma_init_transform    = gamma_init*tf.ones((n_cities, 1), dtype = tf.float32)\n",
    "#     g_init_transform        = g_init*tf.ones((n_cities, 1), dtype = tf.float32)\n",
    "\n",
    "#     Xi = tfp.distributions.Gamma(concentration = xi_var, rate = xi_var)\n",
    "#     Q  = tfp.distributions.TruncatedNormal( q_mean, q_var, 0, 1)\n",
    "\n",
    "#     # same as above\n",
    "#     value =  -(PAL_run_likelihood_lookahead(T-1, intermediate_steps, UKmeasles, UKbirths, UKpop, g_init_transform, measles_distance_matrix, initial_pop, pi_0_init_transform, beta_bar_init_transform, p, a_init, is_school_term_array, is_start_school_year_array, h, rho_init_transform, gamma_init_transform, Xi, Q, c_init, n_cities, n_particles, delta_year))[0].numpy()\n",
    "    \n",
    "#     print(value)\n",
    "\n",
    "#     return value\n",
    "\n",
    "# # Minimize the objective function subject to the constraints\n",
    "# bnds_x_0 = (((-20, -0.5),)*n_cities.numpy()*3)\n",
    "# bnds_beta = (((-10, 10),)*n_cities.numpy())\n",
    "# bnds_rest = ((-4, 0), (-4, 0), (-1, 5), (-20, -np.log(2)-np.log(p)), (-20, -0.01), (-10, 3), (-10, -0.1))\n",
    "# bnds = bnds_x_0+bnds_beta+bnds_rest\n",
    "\n",
    "# x_0 = x_to_start \n",
    "\n",
    "# # Minimize the objective function subject to the constraints\n",
    "# res = minimize(optimization_func, x_0, bounds = bnds, method='SLSQP', options ={\"eps\":eps_num, \"maxiter\":200})\n",
    "\n",
    "# final_parameters_lookahead_C = res.x \n",
    "\n"
   ]
  },
  {
   "cell_type": "markdown",
   "metadata": {},
   "source": [
    "## Estimate the log-likelihood variance"
   ]
  },
  {
   "cell_type": "code",
   "execution_count": 47,
   "metadata": {},
   "outputs": [
    {
     "name": "stdout",
     "output_type": "stream",
     "text": [
      "-58753.848\n",
      "-56951.113\n",
      "-56834.61\n"
     ]
    }
   ],
   "source": [
    "# increase the n_experiments for proper variance estimates, use n_experiments to just test the log-likelihood\n",
    "n_experiments = 1\n",
    "\n",
    "# lookahead\n",
    "# shared\n",
    "\n",
    "best_parameters = np.load(\"Data/Parameter/final_parameters_lookahead_A.npy\")\n",
    "best_parameters = np.ndarray.astype(best_parameters, dtype = np.float32)\n",
    "\n",
    "n_cities = tf.constant(40, dtype = tf.int64)\n",
    "\n",
    "pi_0_1 = best_parameters[0]\n",
    "pi_0_2 = best_parameters[1] \n",
    "pi_0_3 = best_parameters[2] \n",
    "pi_0 = tf.convert_to_tensor([[pi_0_1, pi_0_2, pi_0_3, 1 - pi_0_1 - pi_0_2 - pi_0_3]], dtype = tf.float32)*tf.ones((n_cities, 4), dtype = tf.float32)\n",
    "\n",
    "initial_pop = UKpop[:,0]\n",
    "\n",
    "beta_bar  = tf.convert_to_tensor((best_parameters[3])*tf.ones((n_cities,1)), dtype = tf.float32)\n",
    "rho   = tf.convert_to_tensor([[best_parameters[4]]], dtype = tf.float32)*tf.ones((n_cities, 1), dtype = tf.float32)\n",
    "gamma = tf.convert_to_tensor([[best_parameters[5]]], dtype = tf.float32)*tf.ones((n_cities, 1), dtype = tf.float32)\n",
    "\n",
    "g = tf.convert_to_tensor([[float(100)*best_parameters[6]]], dtype = tf.float32)*tf.ones((n_cities, 1), dtype = tf.float32) \n",
    "a = tf.constant(best_parameters[7],   dtype = tf.float32)\n",
    "c = tf.constant(best_parameters[8],   dtype = tf.float32)\n",
    "xi_var = 10*tf.convert_to_tensor(best_parameters[9], dtype = tf.float32)\n",
    "q_var  = tf.convert_to_tensor(best_parameters[10], dtype = tf.float32)\n",
    "\n",
    "\n",
    "Xi = tfp.distributions.Gamma(concentration = xi_var, rate = xi_var)\n",
    "Q  = tfp.distributions.TruncatedNormal( q_mean, q_var, 0, 1)\n",
    "\n",
    "n_particles = 1000\n",
    "log_likelihood_shared = np.zeros(n_experiments)\n",
    "\n",
    "for i in tf.range(n_experiments):\n",
    "\n",
    "    value = (PAL_run_likelihood_lookahead(T-1, intermediate_steps, UKmeasles, UKbirths, UKpop, g, measles_distance_matrix, initial_pop, pi_0, beta_bar, p, a, is_school_term_array, is_start_school_year_array, h, rho, gamma, Xi, Q, c, n_cities, n_particles, delta_year))[0].numpy()\n",
    "\n",
    "    log_likelihood_shared[i] = value\n",
    "\n",
    "    print(value)\n",
    "\n",
    "# initial distribution city specific\n",
    "best_parameters = np.load(\"Data/Parameter/final_parameters_lookahead_B.npy\")\n",
    "best_parameters = np.ndarray.astype(best_parameters, dtype = np.float32)\n",
    "\n",
    "x = best_parameters\n",
    "\n",
    "x_initial = np.reshape(x[0:n_cities.numpy()*3], (n_cities, 3))\n",
    "pi_0_init = tf.convert_to_tensor(np.concatenate((x_initial[:,0:1], x_initial[:,1:2], x_initial[:,2:3], 1 - x_initial[:,0:1] - x_initial[:,1:2] - x_initial[:,2:3]), axis = 1), dtype = np.float32)\n",
    "\n",
    "x_beta = x[n_cities.numpy()*3:n_cities.numpy()*3+1]*np.ones((n_cities))\n",
    "beta_bar_init = tf.convert_to_tensor(np.reshape(x_beta, (n_cities, 1)), dtype = tf.float32)\n",
    "\n",
    "x_rest = x[n_cities.numpy()*3+1:]\n",
    "rho_init   = tf.convert_to_tensor([x_rest[0:1]], dtype = tf.float32)\n",
    "gamma_init = tf.convert_to_tensor([x_rest[1:2]], dtype = tf.float32)\n",
    "g_init = 100*tf.convert_to_tensor([x_rest[2:3]], dtype = tf.float32)\n",
    "a     = tf.convert_to_tensor( x_rest[3], dtype = tf.float32)\n",
    "c     = tf.convert_to_tensor( x_rest[4], dtype = tf.float32)\n",
    "xi_var  = 10*tf.convert_to_tensor( x_rest[5], dtype = tf.float32)\n",
    "q_var      = tf.convert_to_tensor( x_rest[6], dtype = tf.float32)\n",
    "\n",
    "pi_0     = pi_0_init\n",
    "beta_bar = beta_bar_init\n",
    "rho      = rho_init*tf.ones((n_cities, 1), dtype = tf.float32)\n",
    "gamma    = gamma_init*tf.ones((n_cities, 1), dtype = tf.float32)\n",
    "g        = g_init*tf.ones((n_cities, 1), dtype = tf.float32)\n",
    "\n",
    "Xi = tfp.distributions.Gamma(concentration = xi_var, rate = xi_var)\n",
    "Q  = tfp.distributions.TruncatedNormal( q_mean, q_var, 0, 1)\n",
    "\n",
    "log_likelihood_specific_initial = np.zeros(n_experiments)\n",
    "\n",
    "for i in tf.range(n_experiments):\n",
    "\n",
    "    value = (PAL_run_likelihood_lookahead(T-1, intermediate_steps, UKmeasles, UKbirths, UKpop, g, measles_distance_matrix, initial_pop, pi_0, beta_bar, p, a, is_school_term_array, is_start_school_year_array, h, rho, gamma, Xi, Q, c, n_cities, n_particles, delta_year))[0].numpy()\n",
    "\n",
    "    log_likelihood_specific_initial[i] = value\n",
    "\n",
    "    print(value)\n",
    "\n",
    "# beta param city specific\n",
    "best_parameters = np.load(\"Data/Parameter/final_parameters_lookahead_C.npy\")\n",
    "best_parameters = np.ndarray.astype(best_parameters, dtype = np.float32)\n",
    "\n",
    "x = best_parameters\n",
    "\n",
    "x_initial = np.reshape(x[0:n_cities.numpy()*3], (n_cities, 3))\n",
    "pi_0 = tf.convert_to_tensor(np.concatenate((x_initial[:,0:1], x_initial[:,1:2], x_initial[:,2:3], 1 - x_initial[:,0:1] - x_initial[:,1:2] - x_initial[:,2:3]), axis = 1), dtype = np.float32)\n",
    "\n",
    "x_beta = x[(n_cities.numpy()*3):(n_cities.numpy()*3+n_cities.numpy())]\n",
    "beta_bar = tf.convert_to_tensor(np.reshape(x_beta, (n_cities, 1)), dtype = tf.float32)\n",
    "\n",
    "x_rest = x[(n_cities.numpy()*3+n_cities.numpy()):]\n",
    "rho   = tf.convert_to_tensor([x_rest[0:1]], dtype = tf.float32)\n",
    "gamma = tf.convert_to_tensor([x_rest[1:2]], dtype = tf.float32)\n",
    "g = 100*tf.convert_to_tensor([x_rest[2:3]], dtype = tf.float32)\n",
    "a     = tf.convert_to_tensor( x_rest[3], dtype = tf.float32)\n",
    "c     = tf.convert_to_tensor( x_rest[4], dtype = tf.float32)\n",
    "xi_var  = 10*tf.convert_to_tensor( x_rest[5], dtype = tf.float32)\n",
    "q_var      = tf.convert_to_tensor( x_rest[6], dtype = tf.float32)\n",
    "\n",
    "pi_0     = pi_0\n",
    "beta_bar = beta_bar\n",
    "rho      = rho*tf.ones((n_cities, 1), dtype = tf.float32)\n",
    "gamma    = gamma*tf.ones((n_cities, 1), dtype = tf.float32)\n",
    "g        = g*tf.ones((n_cities, 1), dtype = tf.float32)\n",
    "\n",
    "Xi = tfp.distributions.Gamma(concentration = xi_var, rate = xi_var)\n",
    "Q  = tfp.distributions.TruncatedNormal( q_mean, q_var, 0, 1)\n",
    "\n",
    "log_likelihood_specific = np.zeros(n_experiments)\n",
    "\n",
    "for i in tf.range(n_experiments):\n",
    "\n",
    "    value = (PAL_run_likelihood_lookahead(T-1, intermediate_steps, UKmeasles, UKbirths, UKpop, g, measles_distance_matrix, initial_pop, pi_0, beta_bar, p, a, is_school_term_array, is_start_school_year_array, h, rho, gamma, Xi, Q, c, n_cities, n_particles, delta_year))[0].numpy()\n",
    "\n",
    "    log_likelihood_specific[i] = value\n",
    "\n",
    "    print(value)\n"
   ]
  },
  {
   "cell_type": "code",
   "execution_count": 48,
   "metadata": {},
   "outputs": [],
   "source": [
    "loglikelihoo_lookahead_shared           = np.load(\"Data/loglikelihood_lookahead_shared.npy\")\n",
    "loglikelihoo_lookahead_specific         = np.load(\"Data/loglikelihood_lookahead_specific.npy\")\n",
    "loglikelihoo_lookahead_specific_initial = np.load(\"Data/loglikelihood_lookahead_specific_initial.npy\")\n",
    "\n",
    "loglikelihoo_lookahead = [loglikelihoo_lookahead_shared, loglikelihoo_lookahead_specific_initial, loglikelihoo_lookahead_specific, ]"
   ]
  },
  {
   "cell_type": "code",
   "execution_count": 49,
   "metadata": {},
   "outputs": [
    {
     "data": {
      "text/plain": [
       "Text(0, 0.5, 'Log-likelihood')"
      ]
     },
     "execution_count": 49,
     "metadata": {},
     "output_type": "execute_result"
    },
    {
     "data": {
      "image/png": "[encoded data removed]",
      "text/plain": [
       "<Figure size 1000x750 with 1 Axes>"
      ]
     },
     "metadata": {
      "needs_background": "light"
     },
     "output_type": "display_data"
    }
   ],
   "source": [
    "# Set up the figure\n",
    "fig, ax = plt.subplots(nrows=1, ncols=1, figsize = (10, 7.5), dpi = 100)\n",
    "\n",
    "position = [1, 1.7, 2.4]\n",
    "\n",
    "# Plot the boxplots for each group, closer together\n",
    "ax.boxplot(loglikelihoo_lookahead, positions = position, widths = 0.5)\n",
    "ax.set_xticklabels([r'A', r'B', r'C',], )\n",
    "ax.tick_params(axis=\"y\", )\n",
    "ax.set_ylabel(\"Log-likelihood\", )"
   ]
  },
  {
   "cell_type": "code",
   "execution_count": null,
   "metadata": {},
   "outputs": [],
   "source": []
  }
 ],
 "metadata": {
  "kernelspec": {
   "display_name": "Python 3.9.12 ('TensorFlow')",
   "language": "python",
   "name": "python3"
  },
  "language_info": {
   "codemirror_mode": {
    "name": "ipython",
    "version": 3
   },
   "file_extension": ".py",
   "mimetype": "text/x-python",
   "name": "python",
   "nbconvert_exporter": "python",
   "pygments_lexer": "ipython3",
   "version": "3.9.12"
  },
  "orig_nbformat": 4,
  "vscode": {
   "interpreter": {
    "hash": "e66983aeabbe5e445711210dea1475ccb71c9cb56a03db0f98963fcc2615bb84"
   }
  }
 },
 "nbformat": 4,
 "nbformat_minor": 2
}
